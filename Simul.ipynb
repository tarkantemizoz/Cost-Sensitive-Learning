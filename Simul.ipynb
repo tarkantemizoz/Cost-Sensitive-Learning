{
 "cells": [
  {
   "cell_type": "code",
   "execution_count": null,
   "metadata": {},
   "outputs": [],
   "source": [
    "import warnings\n",
    "import numpy as np\n",
    "import pandas as pd\n",
    "import pickle\n",
    "\n",
    "from Models.simul_cslr import data_gen, cs_synthetic\n",
    "warnings.filterwarnings(\"ignore\")\n",
    "\n",
    "    \n",
    "num_class = [2, 3]\n",
    "num_features = [15, 25]\n",
    "n_simul = 100\n",
    "noise_level = [0.5, 1]\n",
    "num_instance = [1000, 3000, 5000, 10000]\n",
    "time_limit = 300\n",
    "df_count = 0\n",
    "\n",
    "for noise in noidse_level:\n",
    "    for n_class in num_class:\n",
    "        for n_features in num_features:\n",
    "            for n_instance in num_instance:\n",
    "                results = np.zeros((n_simul,(25 if n_class == 2 else 19)))\n",
    "                for simul in range(n_simul):\n",
    "                    config = {\n",
    "                    \"seed\" : simul,\n",
    "                    \"n\" : n_instance,\n",
    "                    \"num_class\" : n_class,\n",
    "                    \"num_features\": n_features,\n",
    "                    \"noise\": noise,\n",
    "                    \"initial\": True,\n",
    "                    \"time_limit\": time_limit\n",
    "                    }\n",
    "                    indice, count = 4, 12\n",
    "                    acc_ind = (12 if n_class == 2 else 4)\n",
    "                    model_simul = cs_synthetic(config)\n",
    "                    results[simul,0], results[simul,18], results[simul,acc_ind], results[simul,acc_ind+1] = model_simul.gradient_simul()\n",
    "                    results[simul,1], results[simul,indice+2], results[simul,indice+3] = model_simul.logistic()\n",
    "                    results[simul,2], results[simul,indice+4], results[simul,indice+5] = model_simul.tree()\n",
    "                    results[simul,3], results[simul,indice+6], results[simul,indice+7] = model_simul.xgboost()\n",
    "                    if n_class == 2:\n",
    "                        results[simul,4], results[simul,19], results[simul,14], results[simul,15] = model_simul.mip_opt_simul()\n",
    "                        model_simul.give_initial = False\n",
    "                        results[simul,5], results[simul,20], results[simul,16], results[simul,17] = model_simul.mip_opt_simul()\n",
    "                        count = 21        \n",
    "                    for j in range(n_class):\n",
    "                        results[simul,count+j] = np.bincount(model_simul.outcomes_train)[j]\n",
    "                        results[simul,count+j+n_class] = np.bincount(model_simul.outcomes_test)[j]\n",
    "                                   "
   ]
  }
 ],
 "metadata": {
  "kernelspec": {
   "display_name": "Python 3",
   "language": "python",
   "name": "python3"
  },
  "language_info": {
   "codemirror_mode": {
    "name": "ipython",
    "version": 3
   },
   "file_extension": ".py",
   "mimetype": "text/x-python",
   "name": "python",
   "nbconvert_exporter": "python",
   "pygments_lexer": "ipython3",
   "version": "3.7.7"
  }
 },
 "nbformat": 4,
 "nbformat_minor": 4
}
